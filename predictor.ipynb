{
 "cells": [
  {
   "cell_type": "code",
   "execution_count": 2,
   "metadata": {},
   "outputs": [],
   "source": [
    "import pandas as pd\n",
    "import numpy as np\n",
    "import matplotlib.pyplot as plt\n",
    "import seaborn as sns\n",
    "from scipy.stats import linregress "
   ]
  },
  {
   "attachments": {},
   "cell_type": "markdown",
   "metadata": {},
   "source": [
    "#### Read data starting from 7th row"
   ]
  },
  {
   "cell_type": "code",
   "execution_count": 3,
   "metadata": {},
   "outputs": [],
   "source": [
    "df = pd.read_csv('http://www3.epa.gov/climatechange/images/indicator_downloads/sea-level_fig-1.csv',skiprows=6)"
   ]
  },
  {
   "cell_type": "code",
   "execution_count": 4,
   "metadata": {},
   "outputs": [
    {
     "data": {
      "text/html": [
       "<div>\n",
       "<style scoped>\n",
       "    .dataframe tbody tr th:only-of-type {\n",
       "        vertical-align: middle;\n",
       "    }\n",
       "\n",
       "    .dataframe tbody tr th {\n",
       "        vertical-align: top;\n",
       "    }\n",
       "\n",
       "    .dataframe thead th {\n",
       "        text-align: right;\n",
       "    }\n",
       "</style>\n",
       "<table border=\"1\" class=\"dataframe\">\n",
       "  <thead>\n",
       "    <tr style=\"text-align: right;\">\n",
       "      <th></th>\n",
       "      <th>Year</th>\n",
       "      <th>CSIRO - Adjusted sea level (inches)</th>\n",
       "      <th>CSIRO - Lower error bound (inches)</th>\n",
       "      <th>CSIRO - Upper error bound (inches)</th>\n",
       "      <th>NOAA - Adjusted sea level (inches)</th>\n",
       "    </tr>\n",
       "  </thead>\n",
       "  <tbody>\n",
       "    <tr>\n",
       "      <th>0</th>\n",
       "      <td>1880</td>\n",
       "      <td>0.000000</td>\n",
       "      <td>-0.952756</td>\n",
       "      <td>0.952756</td>\n",
       "      <td>NaN</td>\n",
       "    </tr>\n",
       "    <tr>\n",
       "      <th>1</th>\n",
       "      <td>1881</td>\n",
       "      <td>0.220472</td>\n",
       "      <td>-0.732283</td>\n",
       "      <td>1.173228</td>\n",
       "      <td>NaN</td>\n",
       "    </tr>\n",
       "    <tr>\n",
       "      <th>2</th>\n",
       "      <td>1882</td>\n",
       "      <td>-0.440945</td>\n",
       "      <td>-1.346457</td>\n",
       "      <td>0.464567</td>\n",
       "      <td>NaN</td>\n",
       "    </tr>\n",
       "    <tr>\n",
       "      <th>3</th>\n",
       "      <td>1883</td>\n",
       "      <td>-0.232283</td>\n",
       "      <td>-1.129921</td>\n",
       "      <td>0.665354</td>\n",
       "      <td>NaN</td>\n",
       "    </tr>\n",
       "    <tr>\n",
       "      <th>4</th>\n",
       "      <td>1884</td>\n",
       "      <td>0.590551</td>\n",
       "      <td>-0.283465</td>\n",
       "      <td>1.464567</td>\n",
       "      <td>NaN</td>\n",
       "    </tr>\n",
       "    <tr>\n",
       "      <th>...</th>\n",
       "      <td>...</td>\n",
       "      <td>...</td>\n",
       "      <td>...</td>\n",
       "      <td>...</td>\n",
       "      <td>...</td>\n",
       "    </tr>\n",
       "    <tr>\n",
       "      <th>130</th>\n",
       "      <td>2010</td>\n",
       "      <td>8.901575</td>\n",
       "      <td>8.618110</td>\n",
       "      <td>9.185039</td>\n",
       "      <td>8.122973</td>\n",
       "    </tr>\n",
       "    <tr>\n",
       "      <th>131</th>\n",
       "      <td>2011</td>\n",
       "      <td>8.964567</td>\n",
       "      <td>8.661417</td>\n",
       "      <td>9.267717</td>\n",
       "      <td>8.053065</td>\n",
       "    </tr>\n",
       "    <tr>\n",
       "      <th>132</th>\n",
       "      <td>2012</td>\n",
       "      <td>9.326772</td>\n",
       "      <td>8.992126</td>\n",
       "      <td>9.661417</td>\n",
       "      <td>8.457058</td>\n",
       "    </tr>\n",
       "    <tr>\n",
       "      <th>133</th>\n",
       "      <td>2013</td>\n",
       "      <td>8.980315</td>\n",
       "      <td>8.622047</td>\n",
       "      <td>9.338583</td>\n",
       "      <td>8.546648</td>\n",
       "    </tr>\n",
       "    <tr>\n",
       "      <th>134</th>\n",
       "      <td>2014</td>\n",
       "      <td>NaN</td>\n",
       "      <td>NaN</td>\n",
       "      <td>NaN</td>\n",
       "      <td>8.663700</td>\n",
       "    </tr>\n",
       "  </tbody>\n",
       "</table>\n",
       "<p>135 rows × 5 columns</p>\n",
       "</div>"
      ],
      "text/plain": [
       "     Year  CSIRO - Adjusted sea level (inches)  \\\n",
       "0    1880                             0.000000   \n",
       "1    1881                             0.220472   \n",
       "2    1882                            -0.440945   \n",
       "3    1883                            -0.232283   \n",
       "4    1884                             0.590551   \n",
       "..    ...                                  ...   \n",
       "130  2010                             8.901575   \n",
       "131  2011                             8.964567   \n",
       "132  2012                             9.326772   \n",
       "133  2013                             8.980315   \n",
       "134  2014                                  NaN   \n",
       "\n",
       "     CSIRO - Lower error bound (inches)  CSIRO - Upper error bound (inches)  \\\n",
       "0                             -0.952756                            0.952756   \n",
       "1                             -0.732283                            1.173228   \n",
       "2                             -1.346457                            0.464567   \n",
       "3                             -1.129921                            0.665354   \n",
       "4                             -0.283465                            1.464567   \n",
       "..                                  ...                                 ...   \n",
       "130                            8.618110                            9.185039   \n",
       "131                            8.661417                            9.267717   \n",
       "132                            8.992126                            9.661417   \n",
       "133                            8.622047                            9.338583   \n",
       "134                                 NaN                                 NaN   \n",
       "\n",
       "     NOAA - Adjusted sea level (inches)  \n",
       "0                                   NaN  \n",
       "1                                   NaN  \n",
       "2                                   NaN  \n",
       "3                                   NaN  \n",
       "4                                   NaN  \n",
       "..                                  ...  \n",
       "130                            8.122973  \n",
       "131                            8.053065  \n",
       "132                            8.457058  \n",
       "133                            8.546648  \n",
       "134                            8.663700  \n",
       "\n",
       "[135 rows x 5 columns]"
      ]
     },
     "execution_count": 4,
     "metadata": {},
     "output_type": "execute_result"
    }
   ],
   "source": [
    "df"
   ]
  },
  {
   "attachments": {},
   "cell_type": "markdown",
   "metadata": {},
   "source": [
    "#### Look for NA values"
   ]
  },
  {
   "cell_type": "code",
   "execution_count": 5,
   "metadata": {},
   "outputs": [
    {
     "data": {
      "text/html": [
       "<div>\n",
       "<style scoped>\n",
       "    .dataframe tbody tr th:only-of-type {\n",
       "        vertical-align: middle;\n",
       "    }\n",
       "\n",
       "    .dataframe tbody tr th {\n",
       "        vertical-align: top;\n",
       "    }\n",
       "\n",
       "    .dataframe thead th {\n",
       "        text-align: right;\n",
       "    }\n",
       "</style>\n",
       "<table border=\"1\" class=\"dataframe\">\n",
       "  <thead>\n",
       "    <tr style=\"text-align: right;\">\n",
       "      <th></th>\n",
       "      <th>Year</th>\n",
       "      <th>CSIRO - Adjusted sea level (inches)</th>\n",
       "      <th>CSIRO - Lower error bound (inches)</th>\n",
       "      <th>CSIRO - Upper error bound (inches)</th>\n",
       "      <th>NOAA - Adjusted sea level (inches)</th>\n",
       "    </tr>\n",
       "  </thead>\n",
       "  <tbody>\n",
       "    <tr>\n",
       "      <th>134</th>\n",
       "      <td>2014</td>\n",
       "      <td>NaN</td>\n",
       "      <td>NaN</td>\n",
       "      <td>NaN</td>\n",
       "      <td>8.6637</td>\n",
       "    </tr>\n",
       "  </tbody>\n",
       "</table>\n",
       "</div>"
      ],
      "text/plain": [
       "     Year  CSIRO - Adjusted sea level (inches)  \\\n",
       "134  2014                                  NaN   \n",
       "\n",
       "     CSIRO - Lower error bound (inches)  CSIRO - Upper error bound (inches)  \\\n",
       "134                                 NaN                                 NaN   \n",
       "\n",
       "     NOAA - Adjusted sea level (inches)  \n",
       "134                              8.6637  "
      ]
     },
     "execution_count": 5,
     "metadata": {},
     "output_type": "execute_result"
    }
   ],
   "source": [
    "df.loc[df['CSIRO - Adjusted sea level (inches)'].isna()] "
   ]
  },
  {
   "attachments": {},
   "cell_type": "markdown",
   "metadata": {},
   "source": [
    "#### Drop NA values based on Sea Level"
   ]
  },
  {
   "cell_type": "code",
   "execution_count": 6,
   "metadata": {},
   "outputs": [],
   "source": [
    "df.dropna(subset='CSIRO - Adjusted sea level (inches)',inplace=True)"
   ]
  },
  {
   "cell_type": "code",
   "execution_count": 7,
   "metadata": {},
   "outputs": [
    {
     "data": {
      "text/html": [
       "<div>\n",
       "<style scoped>\n",
       "    .dataframe tbody tr th:only-of-type {\n",
       "        vertical-align: middle;\n",
       "    }\n",
       "\n",
       "    .dataframe tbody tr th {\n",
       "        vertical-align: top;\n",
       "    }\n",
       "\n",
       "    .dataframe thead th {\n",
       "        text-align: right;\n",
       "    }\n",
       "</style>\n",
       "<table border=\"1\" class=\"dataframe\">\n",
       "  <thead>\n",
       "    <tr style=\"text-align: right;\">\n",
       "      <th></th>\n",
       "      <th>Year</th>\n",
       "      <th>CSIRO - Adjusted sea level (inches)</th>\n",
       "      <th>CSIRO - Lower error bound (inches)</th>\n",
       "      <th>CSIRO - Upper error bound (inches)</th>\n",
       "      <th>NOAA - Adjusted sea level (inches)</th>\n",
       "    </tr>\n",
       "  </thead>\n",
       "  <tbody>\n",
       "  </tbody>\n",
       "</table>\n",
       "</div>"
      ],
      "text/plain": [
       "Empty DataFrame\n",
       "Columns: [Year, CSIRO - Adjusted sea level (inches), CSIRO - Lower error bound (inches), CSIRO - Upper error bound (inches), NOAA - Adjusted sea level (inches)]\n",
       "Index: []"
      ]
     },
     "execution_count": 7,
     "metadata": {},
     "output_type": "execute_result"
    }
   ],
   "source": [
    "df.loc[df['CSIRO - Adjusted sea level (inches)'].isna()] "
   ]
  },
  {
   "attachments": {},
   "cell_type": "markdown",
   "metadata": {},
   "source": [
    "#### Create scatter plot"
   ]
  },
  {
   "cell_type": "code",
   "execution_count": 8,
   "metadata": {},
   "outputs": [
    {
     "data": {
      "image/png": "[encoded data removed]",
      "text/plain": [
       "<Figure size 640x480 with 1 Axes>"
      ]
     },
     "metadata": {},
     "output_type": "display_data"
    }
   ],
   "source": [
    "plt.scatter(df['Year'],df['CSIRO - Adjusted sea level (inches)'])\n",
    "plt.show()"
   ]
  },
  {
   "attachments": {},
   "cell_type": "markdown",
   "metadata": {},
   "source": [
    "#### Fit linear regresion using scipy"
   ]
  },
  {
   "cell_type": "code",
   "execution_count": 9,
   "metadata": {},
   "outputs": [],
   "source": [
    "reg = linregress(df['Year'] ,df['CSIRO - Adjusted sea level (inches)'])"
   ]
  },
  {
   "attachments": {},
   "cell_type": "markdown",
   "metadata": {},
   "source": [
    "#### Create a numpy array with the future years to predict (years after 2014)"
   ]
  },
  {
   "cell_type": "code",
   "execution_count": 10,
   "metadata": {},
   "outputs": [],
   "source": [
    "future_years = np.arange(start=2014,stop=2051,step=1)"
   ]
  },
  {
   "cell_type": "code",
   "execution_count": 11,
   "metadata": {},
   "outputs": [
    {
     "data": {
      "text/plain": [
       "array([2014, 2015, 2016, 2017, 2018, 2019, 2020, 2021, 2022, 2023, 2024,\n",
       "       2025, 2026, 2027, 2028, 2029, 2030, 2031, 2032, 2033, 2034, 2035,\n",
       "       2036, 2037, 2038, 2039, 2040, 2041, 2042, 2043, 2044, 2045, 2046,\n",
       "       2047, 2048, 2049, 2050])"
      ]
     },
     "execution_count": 11,
     "metadata": {},
     "output_type": "execute_result"
    }
   ],
   "source": [
    "future_years"
   ]
  },
  {
   "attachments": {},
   "cell_type": "markdown",
   "metadata": {},
   "source": [
    "#### Append future years to original years from dataset  "
   ]
  },
  {
   "cell_type": "code",
   "execution_count": 12,
   "metadata": {},
   "outputs": [],
   "source": [
    "past_and_future = np.append(df['Year'],future_years)"
   ]
  },
  {
   "cell_type": "code",
   "execution_count": 13,
   "metadata": {},
   "outputs": [
    {
     "data": {
      "image/png": "[encoded data removed]",
      "text/plain": [
       "<Figure size 640x480 with 1 Axes>"
      ]
     },
     "metadata": {},
     "output_type": "display_data"
    }
   ],
   "source": [
    "plt.scatter(df['Year'],df['CSIRO - Adjusted sea level (inches)'], label='original data') # scatter plot with original data\n",
    "plt.plot(past_and_future, reg.intercept + reg.slope*past_and_future, 'r', label='future prediction') # line plot with original + future prediction\n",
    "plt.legend()\n",
    "plt.show()"
   ]
  },
  {
   "attachments": {},
   "cell_type": "markdown",
   "metadata": {},
   "source": [
    "#### Prediction for 2050 with all dataset"
   ]
  },
  {
   "cell_type": "code",
   "execution_count": 21,
   "metadata": {},
   "outputs": [],
   "source": [
    "sea_level_2050 = reg.intercept + reg.slope * 2050"
   ]
  },
  {
   "cell_type": "code",
   "execution_count": 22,
   "metadata": {},
   "outputs": [
    {
     "name": "stdout",
     "output_type": "stream",
     "text": [
      "Prediction of sea level for 2050: 10.175455257136548\n"
     ]
    }
   ],
   "source": [
    "print(f'Prediction of sea level for 2050: {sea_level_2050}')"
   ]
  },
  {
   "attachments": {},
   "cell_type": "markdown",
   "metadata": {},
   "source": [
    "# Same analysis with data after 2000"
   ]
  },
  {
   "cell_type": "code",
   "execution_count": 14,
   "metadata": {},
   "outputs": [],
   "source": [
    "# keep data just before 2000\n",
    "df2k = df.loc[df['Year']>=2000]"
   ]
  },
  {
   "cell_type": "code",
   "execution_count": 15,
   "metadata": {},
   "outputs": [
    {
     "data": {
      "text/html": [
       "<div>\n",
       "<style scoped>\n",
       "    .dataframe tbody tr th:only-of-type {\n",
       "        vertical-align: middle;\n",
       "    }\n",
       "\n",
       "    .dataframe tbody tr th {\n",
       "        vertical-align: top;\n",
       "    }\n",
       "\n",
       "    .dataframe thead th {\n",
       "        text-align: right;\n",
       "    }\n",
       "</style>\n",
       "<table border=\"1\" class=\"dataframe\">\n",
       "  <thead>\n",
       "    <tr style=\"text-align: right;\">\n",
       "      <th></th>\n",
       "      <th>Year</th>\n",
       "      <th>CSIRO - Adjusted sea level (inches)</th>\n",
       "      <th>CSIRO - Lower error bound (inches)</th>\n",
       "      <th>CSIRO - Upper error bound (inches)</th>\n",
       "      <th>NOAA - Adjusted sea level (inches)</th>\n",
       "    </tr>\n",
       "  </thead>\n",
       "  <tbody>\n",
       "    <tr>\n",
       "      <th>120</th>\n",
       "      <td>2000</td>\n",
       "      <td>7.062992</td>\n",
       "      <td>6.791339</td>\n",
       "      <td>7.334646</td>\n",
       "      <td>6.920582</td>\n",
       "    </tr>\n",
       "    <tr>\n",
       "      <th>121</th>\n",
       "      <td>2001</td>\n",
       "      <td>7.287402</td>\n",
       "      <td>7.019685</td>\n",
       "      <td>7.555118</td>\n",
       "      <td>7.087460</td>\n",
       "    </tr>\n",
       "    <tr>\n",
       "      <th>122</th>\n",
       "      <td>2002</td>\n",
       "      <td>7.381890</td>\n",
       "      <td>7.110236</td>\n",
       "      <td>7.653543</td>\n",
       "      <td>7.319698</td>\n",
       "    </tr>\n",
       "    <tr>\n",
       "      <th>123</th>\n",
       "      <td>2003</td>\n",
       "      <td>7.759843</td>\n",
       "      <td>7.484252</td>\n",
       "      <td>8.035433</td>\n",
       "      <td>7.488353</td>\n",
       "    </tr>\n",
       "    <tr>\n",
       "      <th>124</th>\n",
       "      <td>2004</td>\n",
       "      <td>7.740157</td>\n",
       "      <td>7.464567</td>\n",
       "      <td>8.015748</td>\n",
       "      <td>7.507933</td>\n",
       "    </tr>\n",
       "    <tr>\n",
       "      <th>125</th>\n",
       "      <td>2005</td>\n",
       "      <td>7.744094</td>\n",
       "      <td>7.472441</td>\n",
       "      <td>8.015748</td>\n",
       "      <td>7.644563</td>\n",
       "    </tr>\n",
       "    <tr>\n",
       "      <th>126</th>\n",
       "      <td>2006</td>\n",
       "      <td>7.917323</td>\n",
       "      <td>7.645669</td>\n",
       "      <td>8.188976</td>\n",
       "      <td>7.697420</td>\n",
       "    </tr>\n",
       "    <tr>\n",
       "      <th>127</th>\n",
       "      <td>2007</td>\n",
       "      <td>7.996063</td>\n",
       "      <td>7.712598</td>\n",
       "      <td>8.279528</td>\n",
       "      <td>7.702147</td>\n",
       "    </tr>\n",
       "    <tr>\n",
       "      <th>128</th>\n",
       "      <td>2008</td>\n",
       "      <td>8.350394</td>\n",
       "      <td>8.078740</td>\n",
       "      <td>8.622047</td>\n",
       "      <td>7.907365</td>\n",
       "    </tr>\n",
       "    <tr>\n",
       "      <th>129</th>\n",
       "      <td>2009</td>\n",
       "      <td>8.586614</td>\n",
       "      <td>8.311024</td>\n",
       "      <td>8.862205</td>\n",
       "      <td>8.046354</td>\n",
       "    </tr>\n",
       "    <tr>\n",
       "      <th>130</th>\n",
       "      <td>2010</td>\n",
       "      <td>8.901575</td>\n",
       "      <td>8.618110</td>\n",
       "      <td>9.185039</td>\n",
       "      <td>8.122973</td>\n",
       "    </tr>\n",
       "    <tr>\n",
       "      <th>131</th>\n",
       "      <td>2011</td>\n",
       "      <td>8.964567</td>\n",
       "      <td>8.661417</td>\n",
       "      <td>9.267717</td>\n",
       "      <td>8.053065</td>\n",
       "    </tr>\n",
       "    <tr>\n",
       "      <th>132</th>\n",
       "      <td>2012</td>\n",
       "      <td>9.326772</td>\n",
       "      <td>8.992126</td>\n",
       "      <td>9.661417</td>\n",
       "      <td>8.457058</td>\n",
       "    </tr>\n",
       "    <tr>\n",
       "      <th>133</th>\n",
       "      <td>2013</td>\n",
       "      <td>8.980315</td>\n",
       "      <td>8.622047</td>\n",
       "      <td>9.338583</td>\n",
       "      <td>8.546648</td>\n",
       "    </tr>\n",
       "  </tbody>\n",
       "</table>\n",
       "</div>"
      ],
      "text/plain": [
       "     Year  CSIRO - Adjusted sea level (inches)  \\\n",
       "120  2000                             7.062992   \n",
       "121  2001                             7.287402   \n",
       "122  2002                             7.381890   \n",
       "123  2003                             7.759843   \n",
       "124  2004                             7.740157   \n",
       "125  2005                             7.744094   \n",
       "126  2006                             7.917323   \n",
       "127  2007                             7.996063   \n",
       "128  2008                             8.350394   \n",
       "129  2009                             8.586614   \n",
       "130  2010                             8.901575   \n",
       "131  2011                             8.964567   \n",
       "132  2012                             9.326772   \n",
       "133  2013                             8.980315   \n",
       "\n",
       "     CSIRO - Lower error bound (inches)  CSIRO - Upper error bound (inches)  \\\n",
       "120                            6.791339                            7.334646   \n",
       "121                            7.019685                            7.555118   \n",
       "122                            7.110236                            7.653543   \n",
       "123                            7.484252                            8.035433   \n",
       "124                            7.464567                            8.015748   \n",
       "125                            7.472441                            8.015748   \n",
       "126                            7.645669                            8.188976   \n",
       "127                            7.712598                            8.279528   \n",
       "128                            8.078740                            8.622047   \n",
       "129                            8.311024                            8.862205   \n",
       "130                            8.618110                            9.185039   \n",
       "131                            8.661417                            9.267717   \n",
       "132                            8.992126                            9.661417   \n",
       "133                            8.622047                            9.338583   \n",
       "\n",
       "     NOAA - Adjusted sea level (inches)  \n",
       "120                            6.920582  \n",
       "121                            7.087460  \n",
       "122                            7.319698  \n",
       "123                            7.488353  \n",
       "124                            7.507933  \n",
       "125                            7.644563  \n",
       "126                            7.697420  \n",
       "127                            7.702147  \n",
       "128                            7.907365  \n",
       "129                            8.046354  \n",
       "130                            8.122973  \n",
       "131                            8.053065  \n",
       "132                            8.457058  \n",
       "133                            8.546648  "
      ]
     },
     "execution_count": 15,
     "metadata": {},
     "output_type": "execute_result"
    }
   ],
   "source": [
    "df2k"
   ]
  },
  {
   "attachments": {},
   "cell_type": "markdown",
   "metadata": {},
   "source": [
    "#### Make new regression just considering data after 2000"
   ]
  },
  {
   "cell_type": "code",
   "execution_count": 18,
   "metadata": {},
   "outputs": [],
   "source": [
    "reg2k = linregress(df2k['Year'],df2k['CSIRO - Adjusted sea level (inches)'])"
   ]
  },
  {
   "attachments": {},
   "cell_type": "markdown",
   "metadata": {},
   "source": [
    "#### New Numpy array with years after 2000 to 2050"
   ]
  },
  {
   "cell_type": "code",
   "execution_count": 19,
   "metadata": {},
   "outputs": [],
   "source": [
    "after2k = np.append(df2k['Year'],future_years)"
   ]
  },
  {
   "cell_type": "code",
   "execution_count": 20,
   "metadata": {},
   "outputs": [
    {
     "data": {
      "image/png": "[encoded data removed]",
      "text/plain": [
       "<Figure size 640x480 with 1 Axes>"
      ]
     },
     "metadata": {},
     "output_type": "display_data"
    }
   ],
   "source": [
    "plt.scatter(df2k['Year'], df2k['CSIRO - Adjusted sea level (inches)'], label='data after 2000') # scatter plot with data after 2000\n",
    "plt.plot(after2k, reg2k.intercept + reg2k.slope*after2k, 'r', label='future prediction') # line plot with data after 2000 + predictions\n",
    "plt.legend()\n",
    "plt.show()"
   ]
  },
  {
   "attachments": {},
   "cell_type": "markdown",
   "metadata": {},
   "source": [
    "#### Prediction for 2050 just with data after 2000"
   ]
  },
  {
   "cell_type": "code",
   "execution_count": 23,
   "metadata": {},
   "outputs": [],
   "source": [
    "sea_level_2050 = reg2k.intercept + reg2k.slope * 2050"
   ]
  },
  {
   "cell_type": "code",
   "execution_count": 24,
   "metadata": {},
   "outputs": [
    {
     "name": "stdout",
     "output_type": "stream",
     "text": [
      "Prediction of sea level for 2050: 15.382443524364874\n"
     ]
    }
   ],
   "source": [
    "print(f'Prediction of sea level for 2050: {sea_level_2050}')"
   ]
  },
  {
   "attachments": {},
   "cell_type": "markdown",
   "metadata": {},
   "source": [
    "Conclusion: Predictions differ depending on the year range to consider. We must be aware to take a statistically significant sample. "
   ]
  }
 ],
 "metadata": {
  "kernelspec": {
   "display_name": "myenv",
   "language": "python",
   "name": "python3"
  },
  "language_info": {
   "codemirror_mode": {
    "name": "ipython",
    "version": 3
   },
   "file_extension": ".py",
   "mimetype": "text/x-python",
   "name": "python",
   "nbconvert_exporter": "python",
   "pygments_lexer": "ipython3",
   "version": "3.10.10"
  },
  "orig_nbformat": 4
 },
 "nbformat": 4,
 "nbformat_minor": 2
}
